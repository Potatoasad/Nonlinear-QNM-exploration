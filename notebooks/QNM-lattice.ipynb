{
 "cells": [
  {
   "cell_type": "markdown",
   "id": "c9108916-7048-48d2-802e-a8cc40abc827",
   "metadata": {},
   "source": [
    "# Quadratic QNMs\n",
    "\n",
    "For all linear QNMs that are generated $\\{\\omega_I\\}$, we have the generation of all QNMs of the form $\\{\\omega+\\}$"
   ]
  },
  {
   "cell_type": "code",
   "execution_count": 1,
   "id": "20527e29-b843-483c-81c9-d552736fc774",
   "metadata": {},
   "outputs": [],
   "source": [
    "import qnm"
   ]
  },
  {
   "cell_type": "code",
   "execution_count": null,
   "id": "9031a7f6-9946-478c-b99a-b3438a81ac0e",
   "metadata": {},
   "outputs": [],
   "source": []
  }
 ],
 "metadata": {
  "kernelspec": {
   "display_name": "Python 3 (ipykernel)",
   "language": "python",
   "name": "python3"
  },
  "language_info": {
   "codemirror_mode": {
    "name": "ipython",
    "version": 3
   },
   "file_extension": ".py",
   "mimetype": "text/x-python",
   "name": "python",
   "nbconvert_exporter": "python",
   "pygments_lexer": "ipython3",
   "version": "3.8.8"
  }
 },
 "nbformat": 4,
 "nbformat_minor": 5
}
