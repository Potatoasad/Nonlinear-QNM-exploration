{
 "cells": [
  {
   "cell_type": "markdown",
   "id": "c9108916-7048-48d2-802e-a8cc40abc827",
   "metadata": {},
   "source": [
    "# Quadratic QNMs\n",
    "\n",
    "### Background\n",
    "\n",
    "Let us consider wave perturbations to the metric subject to in going and outgoing boundary conditions. To quadratic order we will have solutions to the following equations [from this paper](https://arxiv.org/pdf/2208.07379.pdf):\n",
    "\n",
    "$$\n",
    "\\mathscr{D} h^{(1)} \\sim 0 \\quad, \\quad \\mathscr{D} h^{(2)} \\sim h^{(1) 2}\n",
    "$$\n",
    "\n",
    "where the first equation is the one that defines the standard set of linear QNMs $\\{\\omega_I\\}$. If we expand the metric:\n",
    "\n",
    "$$\n",
    "h = h^{(0)} + \\eta h^{(1)} + \\eta^2 h^{(2)} + ...\n",
    "$$\n",
    "\n",
    "and if $\\eta$ is not sufficiently small enough to suppress $h^2$ compared to $h^1$ (I think), then modes that make up $h^{(2)}$ are not ignorable. This set of Quasinormal modes are called the Quadratic Quasinormal Modes or QQNMs \n",
    "\n",
    "If we work through the algebra (or look at [point (1.) on pg 2 in this paper](https://arxiv.org/pdf/2208.07379.pdf)) we will find that the set of QQNMs are defined by:\n",
    "\n",
    "$$\n",
    "\\textrm{QQNMs} := \\{ \\Re[\\omega_I] \\pm \\Re[\\omega_J] + i(\\Im[\\omega_I] + \\Im[\\omega_J]) \\ \\ \\forall\\ \\omega_I, \\omega_J \\in \\textrm{Linear QNMs}\\}\n",
    "$$\n",
    "\n",
    "\n",
    "# Visualization\n",
    "\n",
    "#### Initialization"
   ]
  },
  {
   "cell_type": "code",
   "execution_count": 1,
   "id": "20527e29-b843-483c-81c9-d552736fc774",
   "metadata": {},
   "outputs": [],
   "source": [
    "import qnm\n",
    "import matplotlib.pyplot as plt\n",
    "import pandas as pd\n",
    "import numpy as np\n",
    "\n",
    "\n",
    "def add_dimensions(x, M, a):\n",
    "    fref = 2985.668287014743; mref = 68.0;\n",
    "    \n",
    "def CalculateColumns(df):\n",
    "    df['f'] = df['omega_R']/(2*np.pi)\n",
    "    df['gamma'] = -df['omega_I']\n",
    "    df['tau'] = 1/df['gamma']\n",
    "    fref = 2985.668287014743; mref = 68.0;\n",
    "    f0 = fref*mref/M\n",
    "    df['f_units'] = f0*df['f']\n",
    "    df['gamma_units'] = (f0)*df['gamma']\n",
    "    df['tau_units'] = (1/f0)*df['tau']\n",
    "    df['tau_units_ms'] = (df['tau_units'])*(10**3)\n",
    "    df['f_units_Hz'] = (df['f_units'])\n",
    "    return df\n",
    "    \n",
    "def CalculateQNMs(df, a, M):\n",
    "    get_QNMs = lambda a : (lambda x: x['qnm_object'](a=a)[0])\n",
    "    df['omega'] = df.apply(get_QNMs(a), axis=1)\n",
    "    df['omega_R'] = np.real(df['omega'])\n",
    "    df['omega_I'] = np.imag(df['omega'])\n",
    "    df = CalculateColumns(df)\n",
    "    return df.drop('qnm_object', axis=1)"
   ]
  },
  {
   "cell_type": "markdown",
   "id": "390cfc14-f52f-4f6d-9adc-916ab503f06d",
   "metadata": {},
   "source": [
    "#### Create the list of modes"
   ]
  },
  {
   "cell_type": "code",
   "execution_count": 2,
   "id": "9031a7f6-9946-478c-b99a-b3438a81ac0e",
   "metadata": {},
   "outputs": [],
   "source": [
    "s = -2;\n",
    "l_s = [2, 3, 4]\n",
    "n_s = [0, 1, 2, 3]\n",
    "\n",
    "modes = [];\n",
    "for l in l_s:\n",
    "    for m in range(-l, l+1,1):\n",
    "        for n in n_s:\n",
    "            mode_params = {'s':s, 'l': l, 'm': m, 'n': n}\n",
    "            mode_params.update({'qnm_object': qnm.modes_cache(**mode_params)})\n",
    "            mode_params.update({'mode': \"(\" + \",\".join([str(val) for val in [l,m,n]]) + \")\"})\n",
    "            modes.append(mode_params)\n",
    "            \n",
    "df = pd.DataFrame(modes)"
   ]
  },
  {
   "cell_type": "code",
   "execution_count": null,
   "id": "78af8e9c-56f2-47f9-ac61-defd513ee857",
   "metadata": {},
   "outputs": [],
   "source": []
  },
  {
   "cell_type": "code",
   "execution_count": 3,
   "id": "1eda3a02-b18d-461f-b374-6899c779cd72",
   "metadata": {},
   "outputs": [],
   "source": [
    "is_corotating = lambda x: x['l'] == x['m']\n",
    "is_counterrotating = lambda x: x['l'] == -x['m']\n",
    "is_head_on = lambda x: x['m'] == 0\n",
    "\n",
    "\n",
    "M = 68;\n",
    "a = 0.7;\n",
    "    \n",
    "all_modes = CalculateQNMs(df, a, M).sort_values('tau', ascending=False)\n",
    "selected_modes = all_modes.copy()[all_modes.apply(is_corotating, axis=1)]\n",
    "other_selected_modes = selected_modes.copy()\n",
    "selected_modes['order'] = 'linear'\n",
    "other_selected_modes['mode'] = other_selected_modes['mode'].apply(lambda x: x + \"*\")\n",
    "other_selected_modes['omega_R'] = -other_selected_modes['omega_R']\n",
    "other_selected_modes['f'] = -other_selected_modes['f']\n",
    "other_selected_modes['f_units'] = -other_selected_modes['f_units']\n",
    "other_selected_modes['f_units_Hz'] = -other_selected_modes['f_units_Hz']\n",
    "selected_modes = pd.concat([selected_modes, other_selected_modes])"
   ]
  },
  {
   "cell_type": "code",
   "execution_count": null,
   "id": "c5c9fef6-d349-4222-83d8-1b07dc4631fd",
   "metadata": {},
   "outputs": [],
   "source": []
  },
  {
   "cell_type": "code",
   "execution_count": 14,
   "id": "7a8574bc-9585-4af5-828a-de6e5cd5421c",
   "metadata": {},
   "outputs": [],
   "source": [
    "df2 = selected_modes.copy()\n",
    "make_dicts = lambda a,b: [{'mode': f\"{a['mode']} x+ {b['mode']}\",\n",
    "                           'omega_R': a['omega_R'] + b['omega_R'],\n",
    "                           'omega_I': a['omega_I'] + b['omega_I'],\n",
    "                           'l1': a['l'], 'l2':b['l'], \n",
    "                           'm1': a['m'], 'm2':b['m'],\n",
    "                           'n1': a['n'], 'n2':b['n']}]\n",
    "\n",
    "second_order = np.array([[make_dicts(a,b) for i,a in df2.iterrows()] for j,b in df2.copy().iterrows()]).flatten()\n",
    "second_order = pd.DataFrame(list(second_order))\n",
    "second_order = CalculateColumns(second_order)\n",
    "\n",
    "l_condition = ((second_order['l1'] == 2) | (second_order['l2'] == 2))\n",
    "n_condition = ((second_order['n1'] + second_order['n2'] < 5))\n",
    "second_order = second_order[l_condition & n_condition]"
   ]
  },
  {
   "cell_type": "code",
   "execution_count": null,
   "id": "3bc2480e-1ea8-40a1-91bb-388ae2c453d5",
   "metadata": {},
   "outputs": [],
   "source": []
  },
  {
   "cell_type": "code",
   "execution_count": 18,
   "id": "be784765-c2e4-470d-a15d-45a24d97b2ac",
   "metadata": {},
   "outputs": [
    {
     "data": {
      "image/png": "[encoded data removed]",
      "text/plain": [
       "<Figure size 900x900 with 1 Axes>"
      ]
     },
     "metadata": {},
     "output_type": "display_data"
    }
   ],
   "source": [
    "fig, ax = plt.subplots(1, figsize=(4.5,4.5), dpi=200)\n",
    "\n",
    "col1 = 'f_units'\n",
    "col2 = 'gamma_units'\n",
    "\n",
    "ax.plot(selected_modes[col1], selected_modes[col2],'o',c='r', label=\"Linear\")\n",
    "ax.plot(second_order[col1], second_order[col2],'o',c='b', label=\"Quadratic\")\n",
    "\"\"\"\n",
    "for i,x in selected_modes.iterrows():\n",
    "    ax.annotate(f\"{x['mode']}\",(x[col1]-0.05,x[col2]+0.02), fontsize=8)\n",
    "for i,x in second_order.iterrows():\n",
    "    ax.annotate(f\"{x['mode']}\",(x[col1]-0.05*np.random.rand(),x[col2]+0.02*np.random.rand()), fontsize=4)\n",
    "\"\"\"\n",
    "ax.set_xlim((-1024,1024))\n",
    "ax.set_ylim((0,1024))\n",
    "ax.set_xlabel(r\"$f\\ (Hz)$\")\n",
    "ax.set_ylabel(r\"$\\gamma\\ (Hz)$\")\n",
    "ax.set_title(\"All Co-rotating Quasinormal Modes \\n are a lattice generated by the Linear Modes\")\n",
    "plt.legend()\n",
    "plt.show()"
   ]
  },
  {
   "cell_type": "code",
   "execution_count": 16,
   "id": "fc949b75-2054-42e8-a339-535b14155faa",
   "metadata": {},
   "outputs": [
    {
     "data": {
      "image/png": "[encoded data removed]",
      "text/plain": [
       "<Figure size 900x900 with 1 Axes>"
      ]
     },
     "metadata": {},
     "output_type": "display_data"
    }
   ],
   "source": [
    "fig, ax = plt.subplots(1, figsize=(4.5,4.5), dpi=200)\n",
    "\n",
    "col1 = 'omega_R'\n",
    "col2 = 'gamma'\n",
    "\n",
    "ax.plot(selected_modes[col1], selected_modes[col2],'o',c='r')\n",
    "ax.plot(second_order[col1], second_order[col2],'o',c='b')\n",
    "for i,x in selected_modes.iterrows():\n",
    "    ax.annotate(f\"{x['mode']}\",(x[col1]-0.05,x[col2]+0.02), fontsize=8)\n",
    "for i,x in second_order.iterrows():\n",
    "    ax.annotate(f\"{x['mode']}\",(x[col1]-0.05*np.random.rand(),x[col2]+0.02*np.random.rand()), fontsize=4)\n",
    "ax.set_xlim((-1.4,1.4))\n",
    "ax.set_ylim((0,0.5))\n",
    "ax.set_xlabel(\"$\\omega_R$\")\n",
    "ax.set_ylabel(\"$-\\omega_I$\")\n",
    "ax.set_title(\"All QNMs\")\n",
    "plt.show()"
   ]
  },
  {
   "cell_type": "code",
   "execution_count": 11,
   "id": "1c1c6f82-9640-4154-912b-71919a3e2e5b",
   "metadata": {},
   "outputs": [
    {
     "data": {
      "application/vnd.plotly.v1+json": {
       "config": {
        "plotlyServerURL": "https://plot.ly"
       },
       "data": [
        {
         "alignmentgroup": "True",
         "hovertemplate": "x=%{x}<br>y=%{y}<extra></extra>",
         "legendgroup": "",
         "marker": {
          "color": "#636efa",
          "pattern": {
           "shape": ""
          }
         },
         "name": "",
         "offsetgroup": "",
         "orientation": "v",
         "showlegend": false,
         "textposition": "auto",
         "type": "bar",
         "x": [
          "a",
          "b",
          "c"
         ],
         "xaxis": "x",
         "y": [
          1,
          3,
          2
         ],
         "yaxis": "y"
        }
       ],
       "layout": {
        "barmode": "relative",
        "legend": {
         "tracegroupgap": 0
        },
        "margin": {
         "t": 60
        },
        "template": {
         "data": {
          "bar": [
           {
            "error_x": {
             "color": "#2a3f5f"
            },
            "error_y": {
             "color": "#2a3f5f"
            },
            "marker": {
             "line": {
              "color": "#E5ECF6",
              "width": 0.5
             },
             "pattern": {
              "fillmode": "overlay",
              "size": 10,
              "solidity": 0.2
             }
            },
            "type": "bar"
           }
          ],
          "barpolar": [
           {
            "marker": {
             "line": {
              "color": "#E5ECF6",
              "width": 0.5
             },
             "pattern": {
              "fillmode": "overlay",
              "size": 10,
              "solidity": 0.2
             }
            },
            "type": "barpolar"
           }
          ],
          "carpet": [
           {
            "aaxis": {
             "endlinecolor": "#2a3f5f",
             "gridcolor": "white",
             "linecolor": "white",
             "minorgridcolor": "white",
             "startlinecolor": "#2a3f5f"
            },
            "baxis": {
             "endlinecolor": "#2a3f5f",
             "gridcolor": "white",
             "linecolor": "white",
             "minorgridcolor": "white",
             "startlinecolor": "#2a3f5f"
            },
            "type": "carpet"
           }
          ],
          "choropleth": [
           {
            "colorbar": {
             "outlinewidth": 0,
             "ticks": ""
            },
            "type": "choropleth"
           }
          ],
          "contour": [
           {
            "colorbar": {
             "outlinewidth": 0,
             "ticks": ""
            },
            "colorscale": [
             [
              0,
              "#0d0887"
             ],
             [
              0.1111111111111111,
              "#46039f"
             ],
             [
              0.2222222222222222,
              "#7201a8"
             ],
             [
              0.3333333333333333,
              "#9c179e"
             ],
             [
              0.4444444444444444,
              "#bd3786"
             ],
             [
              0.5555555555555556,
              "#d8576b"
             ],
             [
              0.6666666666666666,
              "#ed7953"
             ],
             [
              0.7777777777777778,
              "#fb9f3a"
             ],
             [
              0.8888888888888888,
              "#fdca26"
             ],
             [
              1,
              "#f0f921"
             ]
            ],
            "type": "contour"
           }
          ],
          "contourcarpet": [
           {
            "colorbar": {
             "outlinewidth": 0,
             "ticks": ""
            },
            "type": "contourcarpet"
           }
          ],
          "heatmap": [
           {
            "colorbar": {
             "outlinewidth": 0,
             "ticks": ""
            },
            "colorscale": [
             [
              0,
              "#0d0887"
             ],
             [
              0.1111111111111111,
              "#46039f"
             ],
             [
              0.2222222222222222,
              "#7201a8"
             ],
             [
              0.3333333333333333,
              "#9c179e"
             ],
             [
              0.4444444444444444,
              "#bd3786"
             ],
             [
              0.5555555555555556,
              "#d8576b"
             ],
             [
              0.6666666666666666,
              "#ed7953"
             ],
             [
              0.7777777777777778,
              "#fb9f3a"
             ],
             [
              0.8888888888888888,
              "#fdca26"
             ],
             [
              1,
              "#f0f921"
             ]
            ],
            "type": "heatmap"
           }
          ],
          "heatmapgl": [
           {
            "colorbar": {
             "outlinewidth": 0,
             "ticks": ""
            },
            "colorscale": [
             [
              0,
              "#0d0887"
             ],
             [
              0.1111111111111111,
              "#46039f"
             ],
             [
              0.2222222222222222,
              "#7201a8"
             ],
             [
              0.3333333333333333,
              "#9c179e"
             ],
             [
              0.4444444444444444,
              "#bd3786"
             ],
             [
              0.5555555555555556,
              "#d8576b"
             ],
             [
              0.6666666666666666,
              "#ed7953"
             ],
             [
              0.7777777777777778,
              "#fb9f3a"
             ],
             [
              0.8888888888888888,
              "#fdca26"
             ],
             [
              1,
              "#f0f921"
             ]
            ],
            "type": "heatmapgl"
           }
          ],
          "histogram": [
           {
            "marker": {
             "pattern": {
              "fillmode": "overlay",
              "size": 10,
              "solidity": 0.2
             }
            },
            "type": "histogram"
           }
          ],
          "histogram2d": [
           {
            "colorbar": {
             "outlinewidth": 0,
             "ticks": ""
            },
            "colorscale": [
             [
              0,
              "#0d0887"
             ],
             [
              0.1111111111111111,
              "#46039f"
             ],
             [
              0.2222222222222222,
              "#7201a8"
             ],
             [
              0.3333333333333333,
              "#9c179e"
             ],
             [
              0.4444444444444444,
              "#bd3786"
             ],
             [
              0.5555555555555556,
              "#d8576b"
             ],
             [
              0.6666666666666666,
              "#ed7953"
             ],
             [
              0.7777777777777778,
              "#fb9f3a"
             ],
             [
              0.8888888888888888,
              "#fdca26"
             ],
             [
              1,
              "#f0f921"
             ]
            ],
            "type": "histogram2d"
           }
          ],
          "histogram2dcontour": [
           {
            "colorbar": {
             "outlinewidth": 0,
             "ticks": ""
            },
            "colorscale": [
             [
              0,
              "#0d0887"
             ],
             [
              0.1111111111111111,
              "#46039f"
             ],
             [
              0.2222222222222222,
              "#7201a8"
             ],
             [
              0.3333333333333333,
              "#9c179e"
             ],
             [
              0.4444444444444444,
              "#bd3786"
             ],
             [
              0.5555555555555556,
              "#d8576b"
             ],
             [
              0.6666666666666666,
              "#ed7953"
             ],
             [
              0.7777777777777778,
              "#fb9f3a"
             ],
             [
              0.8888888888888888,
              "#fdca26"
             ],
             [
              1,
              "#f0f921"
             ]
            ],
            "type": "histogram2dcontour"
           }
          ],
          "mesh3d": [
           {
            "colorbar": {
             "outlinewidth": 0,
             "ticks": ""
            },
            "type": "mesh3d"
           }
          ],
          "parcoords": [
           {
            "line": {
             "colorbar": {
              "outlinewidth": 0,
              "ticks": ""
             }
            },
            "type": "parcoords"
           }
          ],
          "pie": [
           {
            "automargin": true,
            "type": "pie"
           }
          ],
          "scatter": [
           {
            "fillpattern": {
             "fillmode": "overlay",
             "size": 10,
             "solidity": 0.2
            },
            "type": "scatter"
           }
          ],
          "scatter3d": [
           {
            "line": {
             "colorbar": {
              "outlinewidth": 0,
              "ticks": ""
             }
            },
            "marker": {
             "colorbar": {
              "outlinewidth": 0,
              "ticks": ""
             }
            },
            "type": "scatter3d"
           }
          ],
          "scattercarpet": [
           {
            "marker": {
             "colorbar": {
              "outlinewidth": 0,
              "ticks": ""
             }
            },
            "type": "scattercarpet"
           }
          ],
          "scattergeo": [
           {
            "marker": {
             "colorbar": {
              "outlinewidth": 0,
              "ticks": ""
             }
            },
            "type": "scattergeo"
           }
          ],
          "scattergl": [
           {
            "marker": {
             "colorbar": {
              "outlinewidth": 0,
              "ticks": ""
             }
            },
            "type": "scattergl"
           }
          ],
          "scattermapbox": [
           {
            "marker": {
             "colorbar": {
              "outlinewidth": 0,
              "ticks": ""
             }
            },
            "type": "scattermapbox"
           }
          ],
          "scatterpolar": [
           {
            "marker": {
             "colorbar": {
              "outlinewidth": 0,
              "ticks": ""
             }
            },
            "type": "scatterpolar"
           }
          ],
          "scatterpolargl": [
           {
            "marker": {
             "colorbar": {
              "outlinewidth": 0,
              "ticks": ""
             }
            },
            "type": "scatterpolargl"
           }
          ],
          "scatterternary": [
           {
            "marker": {
             "colorbar": {
              "outlinewidth": 0,
              "ticks": ""
             }
            },
            "type": "scatterternary"
           }
          ],
          "surface": [
           {
            "colorbar": {
             "outlinewidth": 0,
             "ticks": ""
            },
            "colorscale": [
             [
              0,
              "#0d0887"
             ],
             [
              0.1111111111111111,
              "#46039f"
             ],
             [
              0.2222222222222222,
              "#7201a8"
             ],
             [
              0.3333333333333333,
              "#9c179e"
             ],
             [
              0.4444444444444444,
              "#bd3786"
             ],
             [
              0.5555555555555556,
              "#d8576b"
             ],
             [
              0.6666666666666666,
              "#ed7953"
             ],
             [
              0.7777777777777778,
              "#fb9f3a"
             ],
             [
              0.8888888888888888,
              "#fdca26"
             ],
             [
              1,
              "#f0f921"
             ]
            ],
            "type": "surface"
           }
          ],
          "table": [
           {
            "cells": {
             "fill": {
              "color": "#EBF0F8"
             },
             "line": {
              "color": "white"
             }
            },
            "header": {
             "fill": {
              "color": "#C8D4E3"
             },
             "line": {
              "color": "white"
             }
            },
            "type": "table"
           }
          ]
         },
         "layout": {
          "annotationdefaults": {
           "arrowcolor": "#2a3f5f",
           "arrowhead": 0,
           "arrowwidth": 1
          },
          "autotypenumbers": "strict",
          "coloraxis": {
           "colorbar": {
            "outlinewidth": 0,
            "ticks": ""
           }
          },
          "colorscale": {
           "diverging": [
            [
             0,
             "#8e0152"
            ],
            [
             0.1,
             "#c51b7d"
            ],
            [
             0.2,
             "#de77ae"
            ],
            [
             0.3,
             "#f1b6da"
            ],
            [
             0.4,
             "#fde0ef"
            ],
            [
             0.5,
             "#f7f7f7"
            ],
            [
             0.6,
             "#e6f5d0"
            ],
            [
             0.7,
             "#b8e186"
            ],
            [
             0.8,
             "#7fbc41"
            ],
            [
             0.9,
             "#4d9221"
            ],
            [
             1,
             "#276419"
            ]
           ],
           "sequential": [
            [
             0,
             "#0d0887"
            ],
            [
             0.1111111111111111,
             "#46039f"
            ],
            [
             0.2222222222222222,
             "#7201a8"
            ],
            [
             0.3333333333333333,
             "#9c179e"
            ],
            [
             0.4444444444444444,
             "#bd3786"
            ],
            [
             0.5555555555555556,
             "#d8576b"
            ],
            [
             0.6666666666666666,
             "#ed7953"
            ],
            [
             0.7777777777777778,
             "#fb9f3a"
            ],
            [
             0.8888888888888888,
             "#fdca26"
            ],
            [
             1,
             "#f0f921"
            ]
           ],
           "sequentialminus": [
            [
             0,
             "#0d0887"
            ],
            [
             0.1111111111111111,
             "#46039f"
            ],
            [
             0.2222222222222222,
             "#7201a8"
            ],
            [
             0.3333333333333333,
             "#9c179e"
            ],
            [
             0.4444444444444444,
             "#bd3786"
            ],
            [
             0.5555555555555556,
             "#d8576b"
            ],
            [
             0.6666666666666666,
             "#ed7953"
            ],
            [
             0.7777777777777778,
             "#fb9f3a"
            ],
            [
             0.8888888888888888,
             "#fdca26"
            ],
            [
             1,
             "#f0f921"
            ]
           ]
          },
          "colorway": [
           "#636efa",
           "#EF553B",
           "#00cc96",
           "#ab63fa",
           "#FFA15A",
           "#19d3f3",
           "#FF6692",
           "#B6E880",
           "#FF97FF",
           "#FECB52"
          ],
          "font": {
           "color": "#2a3f5f"
          },
          "geo": {
           "bgcolor": "white",
           "lakecolor": "white",
           "landcolor": "#E5ECF6",
           "showlakes": true,
           "showland": true,
           "subunitcolor": "white"
          },
          "hoverlabel": {
           "align": "left"
          },
          "hovermode": "closest",
          "mapbox": {
           "style": "light"
          },
          "paper_bgcolor": "white",
          "plot_bgcolor": "#E5ECF6",
          "polar": {
           "angularaxis": {
            "gridcolor": "white",
            "linecolor": "white",
            "ticks": ""
           },
           "bgcolor": "#E5ECF6",
           "radialaxis": {
            "gridcolor": "white",
            "linecolor": "white",
            "ticks": ""
           }
          },
          "scene": {
           "xaxis": {
            "backgroundcolor": "#E5ECF6",
            "gridcolor": "white",
            "gridwidth": 2,
            "linecolor": "white",
            "showbackground": true,
            "ticks": "",
            "zerolinecolor": "white"
           },
           "yaxis": {
            "backgroundcolor": "#E5ECF6",
            "gridcolor": "white",
            "gridwidth": 2,
            "linecolor": "white",
            "showbackground": true,
            "ticks": "",
            "zerolinecolor": "white"
           },
           "zaxis": {
            "backgroundcolor": "#E5ECF6",
            "gridcolor": "white",
            "gridwidth": 2,
            "linecolor": "white",
            "showbackground": true,
            "ticks": "",
            "zerolinecolor": "white"
           }
          },
          "shapedefaults": {
           "line": {
            "color": "#2a3f5f"
           }
          },
          "ternary": {
           "aaxis": {
            "gridcolor": "white",
            "linecolor": "white",
            "ticks": ""
           },
           "baxis": {
            "gridcolor": "white",
            "linecolor": "white",
            "ticks": ""
           },
           "bgcolor": "#E5ECF6",
           "caxis": {
            "gridcolor": "white",
            "linecolor": "white",
            "ticks": ""
           }
          },
          "title": {
           "x": 0.05
          },
          "xaxis": {
           "automargin": true,
           "gridcolor": "white",
           "linecolor": "white",
           "ticks": "",
           "title": {
            "standoff": 15
           },
           "zerolinecolor": "white",
           "zerolinewidth": 2
          },
          "yaxis": {
           "automargin": true,
           "gridcolor": "white",
           "linecolor": "white",
           "ticks": "",
           "title": {
            "standoff": 15
           },
           "zerolinecolor": "white",
           "zerolinewidth": 2
          }
         }
        },
        "xaxis": {
         "anchor": "y",
         "domain": [
          0,
          1
         ],
         "title": {
          "text": "x"
         }
        },
        "yaxis": {
         "anchor": "x",
         "domain": [
          0,
          1
         ],
         "title": {
          "text": "y"
         }
        }
       }
      },
      "text/html": [
       "<div>                            <div id=\"804b5af7-f607-4c47-9a25-f2ea07b76b9f\" class=\"plotly-graph-div\" style=\"height:525px; width:100%;\"></div>            <script type=\"text/javascript\">                require([\"plotly\"], function(Plotly) {                    window.PLOTLYENV=window.PLOTLYENV || {};                                    if (document.getElementById(\"804b5af7-f607-4c47-9a25-f2ea07b76b9f\")) {                    Plotly.newPlot(                        \"804b5af7-f607-4c47-9a25-f2ea07b76b9f\",                        [{\"alignmentgroup\":\"True\",\"hovertemplate\":\"x=%{x}<br>y=%{y}<extra></extra>\",\"legendgroup\":\"\",\"marker\":{\"color\":\"#636efa\",\"pattern\":{\"shape\":\"\"}},\"name\":\"\",\"offsetgroup\":\"\",\"orientation\":\"v\",\"showlegend\":false,\"textposition\":\"auto\",\"x\":[\"a\",\"b\",\"c\"],\"xaxis\":\"x\",\"y\":[1,3,2],\"yaxis\":\"y\",\"type\":\"bar\"}],                        {\"template\":{\"data\":{\"histogram2dcontour\":[{\"type\":\"histogram2dcontour\",\"colorbar\":{\"outlinewidth\":0,\"ticks\":\"\"},\"colorscale\":[[0.0,\"#0d0887\"],[0.1111111111111111,\"#46039f\"],[0.2222222222222222,\"#7201a8\"],[0.3333333333333333,\"#9c179e\"],[0.4444444444444444,\"#bd3786\"],[0.5555555555555556,\"#d8576b\"],[0.6666666666666666,\"#ed7953\"],[0.7777777777777778,\"#fb9f3a\"],[0.8888888888888888,\"#fdca26\"],[1.0,\"#f0f921\"]]}],\"choropleth\":[{\"type\":\"choropleth\",\"colorbar\":{\"outlinewidth\":0,\"ticks\":\"\"}}],\"histogram2d\":[{\"type\":\"histogram2d\",\"colorbar\":{\"outlinewidth\":0,\"ticks\":\"\"},\"colorscale\":[[0.0,\"#0d0887\"],[0.1111111111111111,\"#46039f\"],[0.2222222222222222,\"#7201a8\"],[0.3333333333333333,\"#9c179e\"],[0.4444444444444444,\"#bd3786\"],[0.5555555555555556,\"#d8576b\"],[0.6666666666666666,\"#ed7953\"],[0.7777777777777778,\"#fb9f3a\"],[0.8888888888888888,\"#fdca26\"],[1.0,\"#f0f921\"]]}],\"heatmap\":[{\"type\":\"heatmap\",\"colorbar\":{\"outlinewidth\":0,\"ticks\":\"\"},\"colorscale\":[[0.0,\"#0d0887\"],[0.1111111111111111,\"#46039f\"],[0.2222222222222222,\"#7201a8\"],[0.3333333333333333,\"#9c179e\"],[0.4444444444444444,\"#bd3786\"],[0.5555555555555556,\"#d8576b\"],[0.6666666666666666,\"#ed7953\"],[0.7777777777777778,\"#fb9f3a\"],[0.8888888888888888,\"#fdca26\"],[1.0,\"#f0f921\"]]}],\"heatmapgl\":[{\"type\":\"heatmapgl\",\"colorbar\":{\"outlinewidth\":0,\"ticks\":\"\"},\"colorscale\":[[0.0,\"#0d0887\"],[0.1111111111111111,\"#46039f\"],[0.2222222222222222,\"#7201a8\"],[0.3333333333333333,\"#9c179e\"],[0.4444444444444444,\"#bd3786\"],[0.5555555555555556,\"#d8576b\"],[0.6666666666666666,\"#ed7953\"],[0.7777777777777778,\"#fb9f3a\"],[0.8888888888888888,\"#fdca26\"],[1.0,\"#f0f921\"]]}],\"contourcarpet\":[{\"type\":\"contourcarpet\",\"colorbar\":{\"outlinewidth\":0,\"ticks\":\"\"}}],\"contour\":[{\"type\":\"contour\",\"colorbar\":{\"outlinewidth\":0,\"ticks\":\"\"},\"colorscale\":[[0.0,\"#0d0887\"],[0.1111111111111111,\"#46039f\"],[0.2222222222222222,\"#7201a8\"],[0.3333333333333333,\"#9c179e\"],[0.4444444444444444,\"#bd3786\"],[0.5555555555555556,\"#d8576b\"],[0.6666666666666666,\"#ed7953\"],[0.7777777777777778,\"#fb9f3a\"],[0.8888888888888888,\"#fdca26\"],[1.0,\"#f0f921\"]]}],\"surface\":[{\"type\":\"surface\",\"colorbar\":{\"outlinewidth\":0,\"ticks\":\"\"},\"colorscale\":[[0.0,\"#0d0887\"],[0.1111111111111111,\"#46039f\"],[0.2222222222222222,\"#7201a8\"],[0.3333333333333333,\"#9c179e\"],[0.4444444444444444,\"#bd3786\"],[0.5555555555555556,\"#d8576b\"],[0.6666666666666666,\"#ed7953\"],[0.7777777777777778,\"#fb9f3a\"],[0.8888888888888888,\"#fdca26\"],[1.0,\"#f0f921\"]]}],\"mesh3d\":[{\"type\":\"mesh3d\",\"colorbar\":{\"outlinewidth\":0,\"ticks\":\"\"}}],\"scatter\":[{\"fillpattern\":{\"fillmode\":\"overlay\",\"size\":10,\"solidity\":0.2},\"type\":\"scatter\"}],\"parcoords\":[{\"type\":\"parcoords\",\"line\":{\"colorbar\":{\"outlinewidth\":0,\"ticks\":\"\"}}}],\"scatterpolargl\":[{\"type\":\"scatterpolargl\",\"marker\":{\"colorbar\":{\"outlinewidth\":0,\"ticks\":\"\"}}}],\"bar\":[{\"error_x\":{\"color\":\"#2a3f5f\"},\"error_y\":{\"color\":\"#2a3f5f\"},\"marker\":{\"line\":{\"color\":\"#E5ECF6\",\"width\":0.5},\"pattern\":{\"fillmode\":\"overlay\",\"size\":10,\"solidity\":0.2}},\"type\":\"bar\"}],\"scattergeo\":[{\"type\":\"scattergeo\",\"marker\":{\"colorbar\":{\"outlinewidth\":0,\"ticks\":\"\"}}}],\"scatterpolar\":[{\"type\":\"scatterpolar\",\"marker\":{\"colorbar\":{\"outlinewidth\":0,\"ticks\":\"\"}}}],\"histogram\":[{\"marker\":{\"pattern\":{\"fillmode\":\"overlay\",\"size\":10,\"solidity\":0.2}},\"type\":\"histogram\"}],\"scattergl\":[{\"type\":\"scattergl\",\"marker\":{\"colorbar\":{\"outlinewidth\":0,\"ticks\":\"\"}}}],\"scatter3d\":[{\"type\":\"scatter3d\",\"line\":{\"colorbar\":{\"outlinewidth\":0,\"ticks\":\"\"}},\"marker\":{\"colorbar\":{\"outlinewidth\":0,\"ticks\":\"\"}}}],\"scattermapbox\":[{\"type\":\"scattermapbox\",\"marker\":{\"colorbar\":{\"outlinewidth\":0,\"ticks\":\"\"}}}],\"scatterternary\":[{\"type\":\"scatterternary\",\"marker\":{\"colorbar\":{\"outlinewidth\":0,\"ticks\":\"\"}}}],\"scattercarpet\":[{\"type\":\"scattercarpet\",\"marker\":{\"colorbar\":{\"outlinewidth\":0,\"ticks\":\"\"}}}],\"carpet\":[{\"aaxis\":{\"endlinecolor\":\"#2a3f5f\",\"gridcolor\":\"white\",\"linecolor\":\"white\",\"minorgridcolor\":\"white\",\"startlinecolor\":\"#2a3f5f\"},\"baxis\":{\"endlinecolor\":\"#2a3f5f\",\"gridcolor\":\"white\",\"linecolor\":\"white\",\"minorgridcolor\":\"white\",\"startlinecolor\":\"#2a3f5f\"},\"type\":\"carpet\"}],\"table\":[{\"cells\":{\"fill\":{\"color\":\"#EBF0F8\"},\"line\":{\"color\":\"white\"}},\"header\":{\"fill\":{\"color\":\"#C8D4E3\"},\"line\":{\"color\":\"white\"}},\"type\":\"table\"}],\"barpolar\":[{\"marker\":{\"line\":{\"color\":\"#E5ECF6\",\"width\":0.5},\"pattern\":{\"fillmode\":\"overlay\",\"size\":10,\"solidity\":0.2}},\"type\":\"barpolar\"}],\"pie\":[{\"automargin\":true,\"type\":\"pie\"}]},\"layout\":{\"autotypenumbers\":\"strict\",\"colorway\":[\"#636efa\",\"#EF553B\",\"#00cc96\",\"#ab63fa\",\"#FFA15A\",\"#19d3f3\",\"#FF6692\",\"#B6E880\",\"#FF97FF\",\"#FECB52\"],\"font\":{\"color\":\"#2a3f5f\"},\"hovermode\":\"closest\",\"hoverlabel\":{\"align\":\"left\"},\"paper_bgcolor\":\"white\",\"plot_bgcolor\":\"#E5ECF6\",\"polar\":{\"bgcolor\":\"#E5ECF6\",\"angularaxis\":{\"gridcolor\":\"white\",\"linecolor\":\"white\",\"ticks\":\"\"},\"radialaxis\":{\"gridcolor\":\"white\",\"linecolor\":\"white\",\"ticks\":\"\"}},\"ternary\":{\"bgcolor\":\"#E5ECF6\",\"aaxis\":{\"gridcolor\":\"white\",\"linecolor\":\"white\",\"ticks\":\"\"},\"baxis\":{\"gridcolor\":\"white\",\"linecolor\":\"white\",\"ticks\":\"\"},\"caxis\":{\"gridcolor\":\"white\",\"linecolor\":\"white\",\"ticks\":\"\"}},\"coloraxis\":{\"colorbar\":{\"outlinewidth\":0,\"ticks\":\"\"}},\"colorscale\":{\"sequential\":[[0.0,\"#0d0887\"],[0.1111111111111111,\"#46039f\"],[0.2222222222222222,\"#7201a8\"],[0.3333333333333333,\"#9c179e\"],[0.4444444444444444,\"#bd3786\"],[0.5555555555555556,\"#d8576b\"],[0.6666666666666666,\"#ed7953\"],[0.7777777777777778,\"#fb9f3a\"],[0.8888888888888888,\"#fdca26\"],[1.0,\"#f0f921\"]],\"sequentialminus\":[[0.0,\"#0d0887\"],[0.1111111111111111,\"#46039f\"],[0.2222222222222222,\"#7201a8\"],[0.3333333333333333,\"#9c179e\"],[0.4444444444444444,\"#bd3786\"],[0.5555555555555556,\"#d8576b\"],[0.6666666666666666,\"#ed7953\"],[0.7777777777777778,\"#fb9f3a\"],[0.8888888888888888,\"#fdca26\"],[1.0,\"#f0f921\"]],\"diverging\":[[0,\"#8e0152\"],[0.1,\"#c51b7d\"],[0.2,\"#de77ae\"],[0.3,\"#f1b6da\"],[0.4,\"#fde0ef\"],[0.5,\"#f7f7f7\"],[0.6,\"#e6f5d0\"],[0.7,\"#b8e186\"],[0.8,\"#7fbc41\"],[0.9,\"#4d9221\"],[1,\"#276419\"]]},\"xaxis\":{\"gridcolor\":\"white\",\"linecolor\":\"white\",\"ticks\":\"\",\"title\":{\"standoff\":15},\"zerolinecolor\":\"white\",\"automargin\":true,\"zerolinewidth\":2},\"yaxis\":{\"gridcolor\":\"white\",\"linecolor\":\"white\",\"ticks\":\"\",\"title\":{\"standoff\":15},\"zerolinecolor\":\"white\",\"automargin\":true,\"zerolinewidth\":2},\"scene\":{\"xaxis\":{\"backgroundcolor\":\"#E5ECF6\",\"gridcolor\":\"white\",\"linecolor\":\"white\",\"showbackground\":true,\"ticks\":\"\",\"zerolinecolor\":\"white\",\"gridwidth\":2},\"yaxis\":{\"backgroundcolor\":\"#E5ECF6\",\"gridcolor\":\"white\",\"linecolor\":\"white\",\"showbackground\":true,\"ticks\":\"\",\"zerolinecolor\":\"white\",\"gridwidth\":2},\"zaxis\":{\"backgroundcolor\":\"#E5ECF6\",\"gridcolor\":\"white\",\"linecolor\":\"white\",\"showbackground\":true,\"ticks\":\"\",\"zerolinecolor\":\"white\",\"gridwidth\":2}},\"shapedefaults\":{\"line\":{\"color\":\"#2a3f5f\"}},\"annotationdefaults\":{\"arrowcolor\":\"#2a3f5f\",\"arrowhead\":0,\"arrowwidth\":1},\"geo\":{\"bgcolor\":\"white\",\"landcolor\":\"#E5ECF6\",\"subunitcolor\":\"white\",\"showland\":true,\"showlakes\":true,\"lakecolor\":\"white\"},\"title\":{\"x\":0.05},\"mapbox\":{\"style\":\"light\"}}},\"xaxis\":{\"anchor\":\"y\",\"domain\":[0.0,1.0],\"title\":{\"text\":\"x\"}},\"yaxis\":{\"anchor\":\"x\",\"domain\":[0.0,1.0],\"title\":{\"text\":\"y\"}},\"legend\":{\"tracegroupgap\":0},\"margin\":{\"t\":60},\"barmode\":\"relative\"},                        {\"responsive\": true}                    ).then(function(){\n",
       "                            \n",
       "var gd = document.getElementById('804b5af7-f607-4c47-9a25-f2ea07b76b9f');\n",
       "var x = new MutationObserver(function (mutations, observer) {{\n",
       "        var display = window.getComputedStyle(gd).display;\n",
       "        if (!display || display === 'none') {{\n",
       "            console.log([gd, 'removed!']);\n",
       "            Plotly.purge(gd);\n",
       "            observer.disconnect();\n",
       "        }}\n",
       "}});\n",
       "\n",
       "// Listen for the removal of the full notebook cells\n",
       "var notebookContainer = gd.closest('#notebook-container');\n",
       "if (notebookContainer) {{\n",
       "    x.observe(notebookContainer, {childList: true});\n",
       "}}\n",
       "\n",
       "// Listen for the clearing of the current output cell\n",
       "var outputEl = gd.closest('.output');\n",
       "if (outputEl) {{\n",
       "    x.observe(outputEl, {childList: true});\n",
       "}}\n",
       "\n",
       "                        })                };                });            </script>        </div>"
      ]
     },
     "metadata": {},
     "output_type": "display_data"
    }
   ],
   "source": [
    "import plotly.express as px\n",
    "fig = px.bar(x=[\"a\", \"b\", \"c\"], y=[1, 3, 2])\n",
    "fig.show()"
   ]
  },
  {
   "cell_type": "code",
   "execution_count": 9,
   "id": "3b080887-9f3f-427b-a470-ab2341b7d23e",
   "metadata": {},
   "outputs": [
    {
     "name": "stdout",
     "output_type": "stream",
     "text": [
      "Requirement already satisfied: ipywidgets>=7.6 in ./environments/notebook-venv/lib/python3.8/site-packages (8.0.1)\n",
      "Requirement already satisfied: jupyterlab-widgets~=3.0 in ./environments/notebook-venv/lib/python3.8/site-packages (from ipywidgets>=7.6) (3.0.2)\n",
      "Requirement already satisfied: ipykernel>=4.5.1 in ./environments/notebook-venv/lib/python3.8/site-packages (from ipywidgets>=7.6) (6.15.1)\n",
      "Requirement already satisfied: traitlets>=4.3.1 in ./environments/notebook-venv/lib/python3.8/site-packages (from ipywidgets>=7.6) (5.3.0)\n",
      "Requirement already satisfied: widgetsnbextension~=4.0 in ./environments/notebook-venv/lib/python3.8/site-packages (from ipywidgets>=7.6) (4.0.2)\n",
      "Requirement already satisfied: ipython>=6.1.0 in ./environments/notebook-venv/lib/python3.8/site-packages (from ipywidgets>=7.6) (8.4.0)\n",
      "Requirement already satisfied: debugpy>=1.0 in ./environments/notebook-venv/lib/python3.8/site-packages (from ipykernel>=4.5.1->ipywidgets>=7.6) (1.6.3)\n",
      "Requirement already satisfied: pyzmq>=17 in ./environments/notebook-venv/lib/python3.8/site-packages (from ipykernel>=4.5.1->ipywidgets>=7.6) (23.2.1)\n",
      "Requirement already satisfied: appnope in ./environments/notebook-venv/lib/python3.8/site-packages (from ipykernel>=4.5.1->ipywidgets>=7.6) (0.1.3)\n",
      "Requirement already satisfied: nest-asyncio in ./environments/notebook-venv/lib/python3.8/site-packages (from ipykernel>=4.5.1->ipywidgets>=7.6) (1.5.5)\n",
      "Requirement already satisfied: packaging in ./environments/notebook-venv/lib/python3.8/site-packages (from ipykernel>=4.5.1->ipywidgets>=7.6) (21.3)\n",
      "Requirement already satisfied: tornado>=6.1 in ./environments/notebook-venv/lib/python3.8/site-packages (from ipykernel>=4.5.1->ipywidgets>=7.6) (6.2)\n",
      "Requirement already satisfied: psutil in ./environments/notebook-venv/lib/python3.8/site-packages (from ipykernel>=4.5.1->ipywidgets>=7.6) (5.9.1)\n",
      "Requirement already satisfied: jupyter-client>=6.1.12 in ./environments/notebook-venv/lib/python3.8/site-packages (from ipykernel>=4.5.1->ipywidgets>=7.6) (7.3.4)\n",
      "Requirement already satisfied: matplotlib-inline>=0.1 in ./environments/notebook-venv/lib/python3.8/site-packages (from ipykernel>=4.5.1->ipywidgets>=7.6) (0.1.6)\n",
      "Requirement already satisfied: pickleshare in ./environments/notebook-venv/lib/python3.8/site-packages (from ipython>=6.1.0->ipywidgets>=7.6) (0.7.5)\n",
      "Requirement already satisfied: jedi>=0.16 in ./environments/notebook-venv/lib/python3.8/site-packages (from ipython>=6.1.0->ipywidgets>=7.6) (0.18.1)\n",
      "Requirement already satisfied: setuptools>=18.5 in ./environments/notebook-venv/lib/python3.8/site-packages (from ipython>=6.1.0->ipywidgets>=7.6) (65.1.0)\n",
      "Requirement already satisfied: pygments>=2.4.0 in ./environments/notebook-venv/lib/python3.8/site-packages (from ipython>=6.1.0->ipywidgets>=7.6) (2.13.0)\n",
      "Requirement already satisfied: decorator in ./environments/notebook-venv/lib/python3.8/site-packages (from ipython>=6.1.0->ipywidgets>=7.6) (5.1.1)\n",
      "Requirement already satisfied: stack-data in ./environments/notebook-venv/lib/python3.8/site-packages (from ipython>=6.1.0->ipywidgets>=7.6) (0.4.0)\n",
      "Requirement already satisfied: backcall in ./environments/notebook-venv/lib/python3.8/site-packages (from ipython>=6.1.0->ipywidgets>=7.6) (0.2.0)\n",
      "Requirement already satisfied: pexpect>4.3 in ./environments/notebook-venv/lib/python3.8/site-packages (from ipython>=6.1.0->ipywidgets>=7.6) (4.8.0)\n",
      "Requirement already satisfied: prompt-toolkit!=3.0.0,!=3.0.1,<3.1.0,>=2.0.0 in ./environments/notebook-venv/lib/python3.8/site-packages (from ipython>=6.1.0->ipywidgets>=7.6) (3.0.30)\n",
      "Requirement already satisfied: parso<0.9.0,>=0.8.0 in ./environments/notebook-venv/lib/python3.8/site-packages (from jedi>=0.16->ipython>=6.1.0->ipywidgets>=7.6) (0.8.3)\n",
      "Requirement already satisfied: entrypoints in ./environments/notebook-venv/lib/python3.8/site-packages (from jupyter-client>=6.1.12->ipykernel>=4.5.1->ipywidgets>=7.6) (0.4)\n",
      "Requirement already satisfied: jupyter-core>=4.9.2 in ./environments/notebook-venv/lib/python3.8/site-packages (from jupyter-client>=6.1.12->ipykernel>=4.5.1->ipywidgets>=7.6) (4.11.1)\n",
      "Requirement already satisfied: python-dateutil>=2.8.2 in ./environments/notebook-venv/lib/python3.8/site-packages (from jupyter-client>=6.1.12->ipykernel>=4.5.1->ipywidgets>=7.6) (2.8.2)\n",
      "Requirement already satisfied: ptyprocess>=0.5 in ./environments/notebook-venv/lib/python3.8/site-packages (from pexpect>4.3->ipython>=6.1.0->ipywidgets>=7.6) (0.7.0)\n",
      "Requirement already satisfied: wcwidth in ./environments/notebook-venv/lib/python3.8/site-packages (from prompt-toolkit!=3.0.0,!=3.0.1,<3.1.0,>=2.0.0->ipython>=6.1.0->ipywidgets>=7.6) (0.2.5)\n",
      "Requirement already satisfied: pyparsing!=3.0.5,>=2.0.2 in ./environments/notebook-venv/lib/python3.8/site-packages (from packaging->ipykernel>=4.5.1->ipywidgets>=7.6) (3.0.9)\n",
      "Requirement already satisfied: asttokens in ./environments/notebook-venv/lib/python3.8/site-packages (from stack-data->ipython>=6.1.0->ipywidgets>=7.6) (2.0.8)\n",
      "Requirement already satisfied: executing in ./environments/notebook-venv/lib/python3.8/site-packages (from stack-data->ipython>=6.1.0->ipywidgets>=7.6) (0.10.0)\n",
      "Requirement already satisfied: pure-eval in ./environments/notebook-venv/lib/python3.8/site-packages (from stack-data->ipython>=6.1.0->ipywidgets>=7.6) (0.2.2)\n",
      "Requirement already satisfied: six>=1.5 in ./environments/notebook-venv/lib/python3.8/site-packages (from python-dateutil>=2.8.2->jupyter-client>=6.1.12->ipykernel>=4.5.1->ipywidgets>=7.6) (1.16.0)\n"
     ]
    }
   ],
   "source": [
    "!pip install \"ipywidgets>=7.6\""
   ]
  },
  {
   "cell_type": "code",
   "execution_count": null,
   "id": "8eb010a5-8b5f-4244-ba04-52197925c13e",
   "metadata": {},
   "outputs": [],
   "source": []
  }
 ],
 "metadata": {
  "kernelspec": {
   "display_name": "Python 3 (ipykernel)",
   "language": "python",
   "name": "python3"
  },
  "language_info": {
   "codemirror_mode": {
    "name": "ipython",
    "version": 3
   },
   "file_extension": ".py",
   "mimetype": "text/x-python",
   "name": "python",
   "nbconvert_exporter": "python",
   "pygments_lexer": "ipython3",
   "version": "3.8.8"
  }
 },
 "nbformat": 4,
 "nbformat_minor": 5
}
